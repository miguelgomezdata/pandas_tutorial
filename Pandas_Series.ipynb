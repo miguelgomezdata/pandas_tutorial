{
 "cells": [
  {
   "cell_type": "markdown",
   "metadata": {},
   "source": [
    "# Exploring Series   \n",
    " \n",
    "   \n",
    "## How to create a Series?"
   ]
  },
  {
   "cell_type": "code",
   "execution_count": 1,
   "metadata": {},
   "outputs": [
    {
     "data": {
      "text/plain": [
       "0    10\n",
       "1    13\n",
       "2    19\n",
       "3    22\n",
       "dtype: int64"
      ]
     },
     "execution_count": 1,
     "metadata": {},
     "output_type": "execute_result"
    }
   ],
   "source": [
    "import pandas as pd\n",
    "age = pd.Series([10,13,19,22]) #preserve the series in the variable age\n",
    "age"
   ]
  },
  {
   "cell_type": "markdown",
   "metadata": {},
   "source": [
    "*notice that the indexes start with 0,1,2,3,...\n",
    "\n",
    "## How to check the data type of the object?"
   ]
  },
  {
   "cell_type": "code",
   "execution_count": 2,
   "metadata": {},
   "outputs": [
    {
     "data": {
      "text/plain": [
       "pandas.core.series.Series"
      ]
     },
     "execution_count": 2,
     "metadata": {},
     "output_type": "execute_result"
    }
   ],
   "source": [
    "type(age)"
   ]
  },
  {
   "cell_type": "markdown",
   "metadata": {},
   "source": [
    "## How to change the index values of a Series?"
   ]
  },
  {
   "cell_type": "markdown",
   "metadata": {},
   "source": [
    "Use the index parameter"
   ]
  },
  {
   "cell_type": "code",
   "execution_count": 3,
   "metadata": {},
   "outputs": [
    {
     "data": {
      "text/plain": [
       "a    10\n",
       "b    13\n",
       "c    19\n",
       "d    22\n",
       "dtype: int64"
      ]
     },
     "execution_count": 3,
     "metadata": {},
     "output_type": "execute_result"
    }
   ],
   "source": [
    "age = pd.Series([10,13,19,22], index=['a','b','c','d'])\n",
    "age"
   ]
  },
  {
   "cell_type": "markdown",
   "metadata": {},
   "source": [
    "## How to acces an index in a Series?"
   ]
  },
  {
   "cell_type": "code",
   "execution_count": 4,
   "metadata": {},
   "outputs": [
    {
     "data": {
      "text/plain": [
       "10"
      ]
     },
     "execution_count": 4,
     "metadata": {},
     "output_type": "execute_result"
    }
   ],
   "source": [
    "age['a']"
   ]
  },
  {
   "cell_type": "markdown",
   "metadata": {},
   "source": [
    "## How to select a series from a DataFrame?"
   ]
  },
  {
   "cell_type": "code",
   "execution_count": 5,
   "metadata": {},
   "outputs": [
    {
     "data": {
      "text/html": [
       "<div>\n",
       "<style scoped>\n",
       "    .dataframe tbody tr th:only-of-type {\n",
       "        vertical-align: middle;\n",
       "    }\n",
       "\n",
       "    .dataframe tbody tr th {\n",
       "        vertical-align: top;\n",
       "    }\n",
       "\n",
       "    .dataframe thead th {\n",
       "        text-align: right;\n",
       "    }\n",
       "</style>\n",
       "<table border=\"1\" class=\"dataframe\">\n",
       "  <thead>\n",
       "    <tr style=\"text-align: right;\">\n",
       "      <th></th>\n",
       "      <th>id</th>\n",
       "      <th>first_name</th>\n",
       "      <th>last_name</th>\n",
       "      <th>email</th>\n",
       "      <th>gender</th>\n",
       "      <th>ip_address</th>\n",
       "    </tr>\n",
       "  </thead>\n",
       "  <tbody>\n",
       "    <tr>\n",
       "      <th>0</th>\n",
       "      <td>1</td>\n",
       "      <td>Anstice</td>\n",
       "      <td>Sincock</td>\n",
       "      <td>asincock0@wufoo.com</td>\n",
       "      <td>Female</td>\n",
       "      <td>124.76.249.59</td>\n",
       "    </tr>\n",
       "    <tr>\n",
       "      <th>1</th>\n",
       "      <td>2</td>\n",
       "      <td>Lethia</td>\n",
       "      <td>Timmens</td>\n",
       "      <td>ltimmens1@sourceforge.net</td>\n",
       "      <td>Female</td>\n",
       "      <td>14.193.225.111</td>\n",
       "    </tr>\n",
       "    <tr>\n",
       "      <th>2</th>\n",
       "      <td>3</td>\n",
       "      <td>Carolin</td>\n",
       "      <td>Hallybone</td>\n",
       "      <td>challybone2@goo.ne.jp</td>\n",
       "      <td>Female</td>\n",
       "      <td>17.45.122.149</td>\n",
       "    </tr>\n",
       "    <tr>\n",
       "      <th>3</th>\n",
       "      <td>4</td>\n",
       "      <td>Ad</td>\n",
       "      <td>Brewitt</td>\n",
       "      <td>abrewitt3@wsj.com</td>\n",
       "      <td>Male</td>\n",
       "      <td>117.68.14.35</td>\n",
       "    </tr>\n",
       "    <tr>\n",
       "      <th>4</th>\n",
       "      <td>5</td>\n",
       "      <td>Mariele</td>\n",
       "      <td>Mount</td>\n",
       "      <td>mmount4@wp.com</td>\n",
       "      <td>Female</td>\n",
       "      <td>215.176.15.211</td>\n",
       "    </tr>\n",
       "  </tbody>\n",
       "</table>\n",
       "</div>"
      ],
      "text/plain": [
       "   id first_name  last_name                      email  gender      ip_address\n",
       "0   1    Anstice    Sincock        asincock0@wufoo.com  Female   124.76.249.59\n",
       "1   2     Lethia    Timmens  ltimmens1@sourceforge.net  Female  14.193.225.111\n",
       "2   3    Carolin  Hallybone      challybone2@goo.ne.jp  Female   17.45.122.149\n",
       "3   4         Ad    Brewitt          abrewitt3@wsj.com    Male    117.68.14.35\n",
       "4   5    Mariele      Mount             mmount4@wp.com  Female  215.176.15.211"
      ]
     },
     "execution_count": 5,
     "metadata": {},
     "output_type": "execute_result"
    }
   ],
   "source": [
    "users = pd.read_csv('users.csv')\n",
    "users.head() #see the top five rows"
   ]
  },
  {
   "cell_type": "code",
   "execution_count": 6,
   "metadata": {},
   "outputs": [
    {
     "data": {
      "text/plain": [
       "0    Anstice\n",
       "1     Lethia\n",
       "2    Carolin\n",
       "3         Ad\n",
       "4    Mariele\n",
       "5       Dave\n",
       "6       Base\n",
       "7     Ansell\n",
       "8     Joyann\n",
       "9     Felipa\n",
       "Name: first_name, dtype: object"
      ]
     },
     "execution_count": 6,
     "metadata": {},
     "output_type": "execute_result"
    }
   ],
   "source": [
    "users.first_name #Using dot notation"
   ]
  },
  {
   "cell_type": "code",
   "execution_count": 7,
   "metadata": {},
   "outputs": [
    {
     "data": {
      "text/plain": [
       "0    Anstice\n",
       "1     Lethia\n",
       "2    Carolin\n",
       "3         Ad\n",
       "4    Mariele\n",
       "5       Dave\n",
       "6       Base\n",
       "7     Ansell\n",
       "8     Joyann\n",
       "9     Felipa\n",
       "Name: first_name, dtype: object"
      ]
     },
     "execution_count": 7,
     "metadata": {},
     "output_type": "execute_result"
    }
   ],
   "source": [
    "users['first_name'] #using bracket notation"
   ]
  },
  {
   "cell_type": "markdown",
   "metadata": {},
   "source": [
    "*Both notations get the job but if a Series has a space in it's name(e.g. First Name), then you must use bracket notation at access that series."
   ]
  },
  {
   "cell_type": "markdown",
   "metadata": {},
   "source": [
    "## How to show the Series of a DataFrame?"
   ]
  },
  {
   "cell_type": "code",
   "execution_count": 8,
   "metadata": {},
   "outputs": [
    {
     "data": {
      "text/plain": [
       "Index(['id', 'first_name', 'last_name', 'email', 'gender', 'ip_address'], dtype='object')"
      ]
     },
     "execution_count": 8,
     "metadata": {},
     "output_type": "execute_result"
    }
   ],
   "source": [
    "users.columns"
   ]
  },
  {
   "cell_type": "markdown",
   "metadata": {},
   "source": [
    "## How to create a new Series with existing Series?"
   ]
  },
  {
   "cell_type": "code",
   "execution_count": 9,
   "metadata": {},
   "outputs": [
    {
     "data": {
      "text/html": [
       "<div>\n",
       "<style scoped>\n",
       "    .dataframe tbody tr th:only-of-type {\n",
       "        vertical-align: middle;\n",
       "    }\n",
       "\n",
       "    .dataframe tbody tr th {\n",
       "        vertical-align: top;\n",
       "    }\n",
       "\n",
       "    .dataframe thead th {\n",
       "        text-align: right;\n",
       "    }\n",
       "</style>\n",
       "<table border=\"1\" class=\"dataframe\">\n",
       "  <thead>\n",
       "    <tr style=\"text-align: right;\">\n",
       "      <th></th>\n",
       "      <th>id</th>\n",
       "      <th>first_name</th>\n",
       "      <th>last_name</th>\n",
       "      <th>email</th>\n",
       "      <th>gender</th>\n",
       "      <th>ip_address</th>\n",
       "      <th>full_name</th>\n",
       "    </tr>\n",
       "  </thead>\n",
       "  <tbody>\n",
       "    <tr>\n",
       "      <th>0</th>\n",
       "      <td>1</td>\n",
       "      <td>Anstice</td>\n",
       "      <td>Sincock</td>\n",
       "      <td>asincock0@wufoo.com</td>\n",
       "      <td>Female</td>\n",
       "      <td>124.76.249.59</td>\n",
       "      <td>Anstice Sincock</td>\n",
       "    </tr>\n",
       "    <tr>\n",
       "      <th>1</th>\n",
       "      <td>2</td>\n",
       "      <td>Lethia</td>\n",
       "      <td>Timmens</td>\n",
       "      <td>ltimmens1@sourceforge.net</td>\n",
       "      <td>Female</td>\n",
       "      <td>14.193.225.111</td>\n",
       "      <td>Lethia Timmens</td>\n",
       "    </tr>\n",
       "    <tr>\n",
       "      <th>2</th>\n",
       "      <td>3</td>\n",
       "      <td>Carolin</td>\n",
       "      <td>Hallybone</td>\n",
       "      <td>challybone2@goo.ne.jp</td>\n",
       "      <td>Female</td>\n",
       "      <td>17.45.122.149</td>\n",
       "      <td>Carolin Hallybone</td>\n",
       "    </tr>\n",
       "    <tr>\n",
       "      <th>3</th>\n",
       "      <td>4</td>\n",
       "      <td>Ad</td>\n",
       "      <td>Brewitt</td>\n",
       "      <td>abrewitt3@wsj.com</td>\n",
       "      <td>Male</td>\n",
       "      <td>117.68.14.35</td>\n",
       "      <td>Ad Brewitt</td>\n",
       "    </tr>\n",
       "    <tr>\n",
       "      <th>4</th>\n",
       "      <td>5</td>\n",
       "      <td>Mariele</td>\n",
       "      <td>Mount</td>\n",
       "      <td>mmount4@wp.com</td>\n",
       "      <td>Female</td>\n",
       "      <td>215.176.15.211</td>\n",
       "      <td>Mariele Mount</td>\n",
       "    </tr>\n",
       "  </tbody>\n",
       "</table>\n",
       "</div>"
      ],
      "text/plain": [
       "   id first_name  last_name                      email  gender  \\\n",
       "0   1    Anstice    Sincock        asincock0@wufoo.com  Female   \n",
       "1   2     Lethia    Timmens  ltimmens1@sourceforge.net  Female   \n",
       "2   3    Carolin  Hallybone      challybone2@goo.ne.jp  Female   \n",
       "3   4         Ad    Brewitt          abrewitt3@wsj.com    Male   \n",
       "4   5    Mariele      Mount             mmount4@wp.com  Female   \n",
       "\n",
       "       ip_address          full_name  \n",
       "0   124.76.249.59    Anstice Sincock  \n",
       "1  14.193.225.111     Lethia Timmens  \n",
       "2   17.45.122.149  Carolin Hallybone  \n",
       "3    117.68.14.35         Ad Brewitt  \n",
       "4  215.176.15.211      Mariele Mount  "
      ]
     },
     "execution_count": 9,
     "metadata": {},
     "output_type": "execute_result"
    }
   ],
   "source": [
    "users['full_name'] = users.first_name + ' ' + users.last_name #must use bracket notation\n",
    "users.head()"
   ]
  },
  {
   "cell_type": "code",
   "execution_count": null,
   "metadata": {
    "collapsed": true
   },
   "outputs": [],
   "source": []
  }
 ],
 "metadata": {
  "kernelspec": {
   "display_name": "Python 3",
   "language": "python",
   "name": "python3"
  },
  "language_info": {
   "codemirror_mode": {
    "name": "ipython",
    "version": 3
   },
   "file_extension": ".py",
   "mimetype": "text/x-python",
   "name": "python",
   "nbconvert_exporter": "python",
   "pygments_lexer": "ipython3",
   "version": "3.6.3"
  }
 },
 "nbformat": 4,
 "nbformat_minor": 2
}
